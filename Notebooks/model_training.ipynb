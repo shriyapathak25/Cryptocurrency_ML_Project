{
 "cells": [
  {
   "cell_type": "code",
   "execution_count": 1,
   "id": "ef113bc3",
   "metadata": {},
   "outputs": [
    {
     "name": "stdout",
     "output_type": "stream",
     "text": [
      "Linear Regression Model Evaluation:\n",
      "RMSE (Root Mean Squared Error): 0.00\n",
      "MAE (Mean Absolute Error): 0.00\n",
      "R² Score: 1.00\n",
      " Model saved as 'linear_regression_model.pkl'\n"
     ]
    }
   ],
   "source": [
    "# 1. Import required libraries\n",
    "import pandas as pd\n",
    "from sklearn.model_selection import train_test_split\n",
    "from sklearn.linear_model import LinearRegression\n",
    "from sklearn.metrics import mean_squared_error, mean_absolute_error, r2_score\n",
    "import numpy as np\n",
    "import joblib\n",
    "\n",
    "# 2. Load the feature and target datasets\n",
    "X = pd.read_csv('C:\\\\Users\\\\shriya pathak\\\\OneDrive\\\\Desktop\\\\pw project\\\\notebooks\\\\final_features.csv')\n",
    "y = pd.read_csv('C:\\\\Users\\\\shriya pathak\\\\OneDrive\\\\Desktop\\\\pw project\\\\notebooks\\\\target.csv')\n",
    "\n",
    "# 3. Split data into training and testing sets (80% train, 20% test)\n",
    "X_train, X_test, y_train, y_test = train_test_split(X, y, test_size=0.2, random_state=42)\n",
    "\n",
    "# 4. Initialize and train the Linear Regression model\n",
    "lr_model = LinearRegression()\n",
    "lr_model.fit(X_train, y_train)\n",
    "\n",
    "# 5. Predict on the test set\n",
    "y_pred = lr_model.predict(X_test)\n",
    "\n",
    "# 6. Evaluate the model\n",
    "rmse = np.sqrt(mean_squared_error(y_test, y_pred))\n",
    "mae = mean_absolute_error(y_test, y_pred)\n",
    "r2 = r2_score(y_test, y_pred)\n",
    "\n",
    "# 7. Print the evaluation metrics\n",
    "print(\"Linear Regression Model Evaluation:\")\n",
    "print(f\"RMSE (Root Mean Squared Error): {rmse:.2f}\")\n",
    "print(f\"MAE (Mean Absolute Error): {mae:.2f}\")\n",
    "print(f\"R² Score: {r2:.2f}\")\n",
    "\n",
    "# 8. Save the trained model\n",
    "joblib.dump(lr_model, 'linear_regression_model.pkl')\n",
    "print(\" Model saved as 'linear_regression_model.pkl'\")\n"
   ]
  }
 ],
 "metadata": {
  "kernelspec": {
   "display_name": "Cryptocurrency_Prediction",
   "language": "python",
   "name": "python3"
  },
  "language_info": {
   "codemirror_mode": {
    "name": "ipython",
    "version": 3
   },
   "file_extension": ".py",
   "mimetype": "text/x-python",
   "name": "python",
   "nbconvert_exporter": "python",
   "pygments_lexer": "ipython3",
   "version": "3.12.10"
  }
 },
 "nbformat": 4,
 "nbformat_minor": 5
}

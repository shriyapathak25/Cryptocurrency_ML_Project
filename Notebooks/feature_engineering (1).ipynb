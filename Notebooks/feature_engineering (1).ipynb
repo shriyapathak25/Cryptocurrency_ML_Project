{
 "cells": [
  {
   "cell_type": "code",
   "execution_count": 1,
   "id": "0951a57e",
   "metadata": {},
   "outputs": [],
   "source": [
    "# 1. Import libraries\n",
    "import pandas as pd\n",
    "import numpy as np\n",
    "from sklearn.preprocessing import MinMaxScaler\n"
   ]
  },
  {
   "cell_type": "code",
   "execution_count": 2,
   "id": "991d5b29",
   "metadata": {},
   "outputs": [],
   "source": [
    "# 2. Load the cleaned dataset\n",
    "df = pd.read_csv('C:\\\\Users\\\\shriya pathak\\\\OneDrive\\\\Desktop\\\\pw project\\\\notebooks\\\\cleaned_data.csv')"
   ]
  },
  {
   "cell_type": "code",
   "execution_count": 3,
   "id": "cc6e9b01",
   "metadata": {},
   "outputs": [],
   "source": [
    "# 3. Feature Engineering\n",
    "\n",
    "# Example: Log returns of price\n",
    "df['log_return'] = np.log(df['price'] / df['price'].shift(1))\n",
    "\n",
    "# Example: 3-period moving average of price\n",
    "df['price_ma_3'] = df['price'].rolling(window=3).mean()\n",
    "\n",
    "# Example: Volatility over 3 periods (std deviation)\n",
    "df['volatility_3'] = df['price'].rolling(window=3).std()\n",
    "\n",
    "# Drop initial NaN rows caused by rolling\n",
    "df.dropna(inplace=True)\n"
   ]
  },
  {
   "cell_type": "code",
   "execution_count": 4,
   "id": "4eb3e43b",
   "metadata": {},
   "outputs": [],
   "source": [
    "# 4. Define features and target\n",
    "features = ['price', '1h', '24h', '7d', '24h_volume', 'mkt_cap', 'log_return', 'price_ma_3', 'volatility_3']\n",
    "target = '24h_volume'  # or define your own liquidity proxy\n",
    "\n",
    "X = df[features]\n",
    "y = df[target]"
   ]
  },
  {
   "cell_type": "code",
   "execution_count": 5,
   "id": "3acc4c9f",
   "metadata": {},
   "outputs": [],
   "source": [
    "# 5. Normalize the features\n",
    "scaler = MinMaxScaler()\n",
    "X_scaled = scaler.fit_transform(X)\n",
    "\n",
    "# Convert back to DataFrame for saving or modeling\n",
    "X_scaled_df = pd.DataFrame(X_scaled, columns=features)\n"
   ]
  },
  {
   "cell_type": "code",
   "execution_count": null,
   "id": "0ccb02d8",
   "metadata": {},
   "outputs": [],
   "source": [
    "# 6. Save final features and target\n",
    "X_scaled_df.to_csv('final_features.csv', index=False)\n",
    "y.to_csv('target.csv', index=False)\n",
    "\n",
    "print(\"Feature engineering & normalization completed.\")"
   ]
  }
 ],
 "metadata": {
  "kernelspec": {
   "display_name": "Cryptocurrency_Prediction",
   "language": "python",
   "name": "python3"
  },
  "language_info": {
   "codemirror_mode": {
    "name": "ipython",
    "version": 3
   },
   "file_extension": ".py",
   "mimetype": "text/x-python",
   "name": "python",
   "nbconvert_exporter": "python",
   "pygments_lexer": "ipython3",
   "version": "3.12.10"
  }
 },
 "nbformat": 4,
 "nbformat_minor": 5
}
